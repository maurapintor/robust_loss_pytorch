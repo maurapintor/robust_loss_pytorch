{
 "cells": [
  {
   "cell_type": "code",
   "execution_count": 1,
   "metadata": {
    "pycharm": {
     "name": "#%%\n"
    }
   },
   "outputs": [],
   "source": [
    "import numpy as np\n",
    "import torch.utils.data\n",
    "from torch.optim import Adam\n",
    "\n",
    "from models import ConvNet\n",
    "from utils import H5Dataset, robust_ce_loss"
   ]
  },
  {
   "cell_type": "code",
   "execution_count": 2,
   "metadata": {
    "id": "AoBKB5e5E8lM"
   },
   "outputs": [],
   "source": [
    "classes = (0, 1, 2)\n",
    "ds = H5Dataset(path='data/kws10_16x32.hdf5', classes=classes)\n",
    "num_samples = len(ds)\n",
    "train_size = 0.8\n",
    "idxs = np.arange(num_samples)\n",
    "np.random.shuffle(idxs)\n",
    "train_size = int(num_samples*train_size)\n",
    "train_idx = idxs[:train_size]\n",
    "test_idx = idxs[train_size:]\n",
    "\n",
    "tr_sampler = torch.utils.data.SubsetRandomSampler(indices=train_idx)\n",
    "ts_sampler = torch.utils.data.SubsetRandomSampler(indices=test_idx)\n",
    "train_loader = torch.utils.data.DataLoader(ds, batch_size=20, sampler=tr_sampler)\n",
    "test_loader = torch.utils.data.DataLoader(ds, batch_size=20, sampler=ts_sampler)"
   ]
  },
  {
   "cell_type": "code",
   "execution_count": 3,
   "outputs": [],
   "source": [
    "epochs = 50\n",
    "device = torch.device('cuda' if torch.cuda.is_available() else 'cpu')"
   ],
   "metadata": {
    "collapsed": false,
    "pycharm": {
     "name": "#%%\n"
    }
   }
  },
  {
   "cell_type": "code",
   "execution_count": 4,
   "metadata": {
    "colab": {
     "base_uri": "https://localhost:8080/"
    },
    "id": "C5Sa9_E1E_iQ",
    "outputId": "1d151da2-5c1e-4bc5-a6b7-58e6e29eb9d2",
    "pycharm": {
     "name": "#%%\n"
    }
   },
   "outputs": [
    {
     "name": "stdout",
     "output_type": "stream",
     "text": [
      "Training model for lambda: 0\n",
      "Epoch: 1/50 Accuracy on test set: 91.55%\n",
      "Epoch: 6/50 Accuracy on test set: 97.52%\n",
      "Epoch: 11/50 Accuracy on test set: 97.91%\n",
      "Epoch: 16/50 Accuracy on test set: 96.75%\n",
      "Epoch: 21/50 Accuracy on test set: 97.52%\n",
      "Epoch: 26/50 Accuracy on test set: 98.12%\n",
      "Epoch: 31/50 Accuracy on test set: 97.95%\n",
      "Epoch: 36/50 Accuracy on test set: 98.21%\n",
      "Epoch: 41/50 Accuracy on test set: 98.04%\n",
      "Epoch: 46/50 Accuracy on test set: 98.12%\n",
      "Training model for lambda: 4\n",
      "Epoch: 1/50 Accuracy on test set: 63.28%\n",
      "Epoch: 6/50 Accuracy on test set: 85.61%\n",
      "Epoch: 11/50 Accuracy on test set: 69.09%\n",
      "Epoch: 16/50 Accuracy on test set: 93.25%\n",
      "Epoch: 21/50 Accuracy on test set: 90.14%\n",
      "Epoch: 26/50 Accuracy on test set: 93.30%\n",
      "Epoch: 31/50 Accuracy on test set: 95.39%\n",
      "Epoch: 36/50 Accuracy on test set: 92.83%\n",
      "Epoch: 41/50 Accuracy on test set: 95.77%\n",
      "Epoch: 46/50 Accuracy on test set: 90.78%\n"
     ]
    }
   ],
   "source": [
    "lambda_consts = [0, 4]\n",
    "for lambda_const in lambda_consts:\n",
    "    print(\"Training model for lambda: {}\".format(lambda_const))\n",
    "    model = ConvNet(out_dim=len(classes))\n",
    "    model = model.to(device)\n",
    "    optimizer = Adam(model.parameters(), lr=0.001)\n",
    "\n",
    "    for epoch in range(epochs):\n",
    "        model.train()\n",
    "        for batch_idx, (data, target) in enumerate(train_loader):\n",
    "            data, target = data.to(device), target.to(device)\n",
    "            data.requires_grad = True\n",
    "            optimizer.zero_grad()\n",
    "            output = model(data)\n",
    "            loss = robust_ce_loss(output, target, inputs=data, eps=lambda_const)\n",
    "            loss.backward()\n",
    "            optimizer.step()\n",
    "\n",
    "        if epoch % 5 == 0:\n",
    "            model.eval()\n",
    "            # compute accuracy\n",
    "            acc = 0.0\n",
    "            num_samples = 0\n",
    "            for batch_idx, (data, target) in enumerate(test_loader):\n",
    "                data, target = data.to(device), target.to(device)\n",
    "                output = model(data)\n",
    "                preds = output.argmax(dim=1)\n",
    "                acc += (preds.type(target.dtype) == target).float().sum()\n",
    "                num_samples += data.shape[0]\n",
    "            acc = acc/num_samples\n",
    "\n",
    "            print(\"Epoch: {}/{} Accuracy on test set: {:.2%}\".format(epoch+1, epochs, acc))\n",
    "            torch.save(model.state_dict(), f'pretrained/lambda_{str(lambda_const).replace(\".\", \"-\")}.pt')\n",
    "\n",
    "    torch.save(model.state_dict(), f'pretrained/lambda_{str(lambda_const).replace(\".\", \"-\")}.pt')\n",
    "    del model, optimizer\n",
    "\n"
   ]
  }
 ],
 "metadata": {
  "accelerator": "GPU",
  "colab": {
   "collapsed_sections": [],
   "name": "Robust Training.ipynb",
   "provenance": []
  },
  "kernelspec": {
   "display_name": "Python 3",
   "language": "python",
   "name": "python3"
  },
  "language_info": {
   "codemirror_mode": {
    "name": "ipython",
    "version": 3
   },
   "file_extension": ".py",
   "mimetype": "text/x-python",
   "name": "python",
   "nbconvert_exporter": "python",
   "pygments_lexer": "ipython3",
   "version": "3.7.5"
  }
 },
 "nbformat": 4,
 "nbformat_minor": 1
}